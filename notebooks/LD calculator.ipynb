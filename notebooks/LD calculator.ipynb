{
 "cells": [
  {
   "cell_type": "code",
   "execution_count": 11,
   "metadata": {
    "collapsed": true
   },
   "outputs": [],
   "source": [
    "import subprocess\n",
    "import json\n",
    "import requests\n",
    "import pdb"
   ]
  },
  {
   "cell_type": "code",
   "execution_count": 9,
   "metadata": {
    "collapsed": false
   },
   "outputs": [],
   "source": [
    "def get_region(SNP_ids):\n",
    "    \"\"\"\n",
    "    Given a list SNPs id, extract the region that encompassed them all from the ENSEMBL REST API.\n",
    "    Advised only for small SNP set sizes < 10.\n",
    "    \"\"\"\n",
    "    \n",
    "    SNP_json = json.dumps({\"ids\": SNP_ids})\n",
    "    server = \"http://rest.ensembl.org\"\n",
    "    ext = \"/variation/homo_sapiens\"\n",
    "    headers={ \"Content-Type\" : \"application/json\", \"Accept\" : \"application/json\"}\n",
    "    r = requests.post(server+ext, headers=headers, data=SNP_json)\n",
    "\n",
    "    if not r.ok:\n",
    "        print \"Regions of one of more SNPs could not be retieved\"\n",
    "        r.raise_for_status()\n",
    "        sys.exit()\n",
    "\n",
    "    decoded = r.json()\n",
    "\n",
    "    decoded.keys()\n",
    "\n",
    "    sorted_locations = sorted([decoded[k]['mappings'][0]['location'] for k in decoded.keys()])\n",
    "    print sorted_locations\n",
    "\n",
    "    region = '-'.join([sorted_locations[0].split('-')[0],sorted_locations[-1].split('-')[1]])\n",
    "\n",
    "    return region"
   ]
  },
  {
   "cell_type": "code",
   "execution_count": 103,
   "metadata": {
    "collapsed": false,
    "scrolled": true
   },
   "outputs": [],
   "source": [
    "def calculate_LD_window(SNP_id, window_size):\n",
    "\n",
    "    loc = get_region([SNP_id])\n",
    "\n",
    "    from_pos = int(loc.split(\":\")[1].split('-')[0]) - (window_size / 2)\n",
    "    to_pos = int(loc.split(\":\")[1].split('-')[1]) + (window_size / 2)\n",
    "\n",
    "    chromosome = loc.split(':')[0]\n",
    "    print from_pos\n",
    "    print to_pos\n",
    "\n",
    "\n",
    "    region = '{}:{}-{}'.format(chromosome,from_pos,to_pos)\n",
    "    \n",
    "    extract_region_comm = \"bcftools view -r {} ../data/processed/CEPH.chr{}.phase3_shapeit2_mvncall_integrated_v5a.20130502.genotypes.nodup.bcf.gz -O v -o region.vcf\".format(region,chromosome)\n",
    "\n",
    "    subprocess.call(extract_region_comm.split(\" \"))\n",
    "\n",
    "    region_file = open('region.vcf','r')\n",
    "    region_vcf = region_file.read()\n",
    "    \n",
    "    SNPs_order = re.findall('rs[0-9]+', region_vcf)\n",
    "\n",
    "    plinkcomm = \"plink2 --vcf region.vcf --r square --out testLDwindow\"\n",
    "    plinkcomm_list = plinkcomm.split(\" \")\n",
    "    subprocess.call(plinkcomm_list)\n",
    "    \n",
    "    LD_file = open('testLDwindow.ld','r')\n",
    "    g = LD_file.read()\n",
    "    LD_array = [x.split('\\t') for x in g.splitlines()]\n",
    "    LD_file.close\n",
    "    \n",
    "    \n",
    "    return SNPs_order, LD_array\n",
    "\n"
   ]
  },
  {
   "cell_type": "code",
   "execution_count": 108,
   "metadata": {
    "collapsed": false
   },
   "outputs": [
    {
     "name": "stdout",
     "output_type": "stream",
     "text": [
      "[u'1:7851569-7851569']\n",
      "7846569\n",
      "7856569\n",
      "CPU times: user 12.4 ms, sys: 9.06 ms, total: 21.5 ms\n",
      "Wall time: 136 ms\n"
     ]
    }
   ],
   "source": [
    "%%time\n",
    "res = calculate_LD_window('rs74509095', 10000)"
   ]
  },
  {
   "cell_type": "code",
   "execution_count": 101,
   "metadata": {
    "collapsed": false,
    "scrolled": true
   },
   "outputs": [],
   "source": [
    "### Needs list of SNPs in a file, aswell as which chromosome they are from.\n",
    "### Errors to catch: some SNPs not in this chromosome, deduplicate step\n",
    "### modify to BCFtools, \n",
    "\n",
    "def calculate_pairwise_LD(SNPs_filepath=None,SNP_ids=None, region=None,db=0):\n",
    "    \"\"\"\n",
    "    For large numbers of SNPs, best to 0specify SNP region with chrom:to-from, e.g. 1:7654947-8155562\n",
    "    For small numbers (<10), regions are extracted from ENSEMBL REST API.\n",
    "    SNPs can be inputted in a list or from a file with one SNP id per line.\n",
    "    \"\"\"\n",
    "\n",
    "    assert SNPs_filepath or SNP_ids, \"SNPs must be inputted either from a file or a list\"\n",
    "    \n",
    "    ## If a SNP file is provided, use it. Otherwise continue with the provided SNP ids.\n",
    "    if SNPs_filepath:\n",
    "        SNPs_file = open(SNPs_filepath, 'r')\n",
    "        SNP_ids = SNPs_file.read().splitlines()\n",
    "        SNPs_file.close()\n",
    "\n",
    "    \n",
    "\n",
    "    ##If a region is not specified, extract it using ENSEMBL REST API. If large amount of SNPs, advise specifying region.\n",
    "    if not region: \n",
    "        region = get_region(SNP_ids)\n",
    "    \n",
    "    if db != 1:\n",
    "        print region\n",
    "        \n",
    "    \n",
    " \n",
    "    chromosome = region.split(':')[0]\n",
    "\n",
    "    extract_region_comm = \"bcftools view -r {} ../data/processed/CEPH.chr{}.phase3_shapeit2_mvncall_integrated_v5a.20130502.genotypes.nodup.bcf.gz -O z -o region.vcf.gz\".format(region,chromosome)\n",
    "\n",
    "    subprocess.call(extract_region_comm.split(\" \"))\n",
    "\n",
    "    region_file = \"region.vcf.gz\"\n",
    "    ####\n",
    "\n",
    "    vcfcomm = \"vcftools --gzvcf {} --snps {} --recode --stdout\".format(region_file, SNPs_filepath)\n",
    "\n",
    "\n",
    "    vcf = subprocess.check_output(vcfcomm.split(\" \"))\n",
    "\n",
    "    if db != 1:\n",
    "        subprocess.call(['rm', 'region.vcf.gz'])\n",
    "\n",
    "\n",
    "    f = open('temp.vcf', 'w')\n",
    "    f.write(vcf)\n",
    "    f.close()\n",
    "    \n",
    "    SNPs_order = re.findall('rs[0-9]+', vcf)\n",
    "    \n",
    "\n",
    "    plinkcomm = \"plink2 --vcf temp.vcf --r square --out testLD\"\n",
    "    plinkcomm_list = plinkcomm.split(\" \")\n",
    "    subprocess.call(plinkcomm_list)\n",
    "    \n",
    "    if db != 1:\n",
    "        subprocess.call(['rm', 'temp.vcf'])\n",
    "    \n",
    "    LD_file = open('testLD.ld','r')\n",
    "    g = LD_file.read()\n",
    "    LD_array = [x.split('\\t') for x in g.splitlines()]\n",
    "    LD_file.close\n",
    "    \n",
    "    if db != 1:\n",
    "        subprocess.call(['rm', 'temp.vcf'])\n",
    "    \n",
    "    return (SNPs_order, LD_array)\n",
    "    \n"
   ]
  },
  {
   "cell_type": "code",
   "execution_count": 109,
   "metadata": {
    "collapsed": false,
    "scrolled": true
   },
   "outputs": [
    {
     "name": "stdout",
     "output_type": "stream",
     "text": [
      "[u'1:7637119-7637119', u'1:7645031-7645031', u'1:7819141-7819141', u'1:7851569-7851569', u'1:7866341-7866341', u'1:7878053-7878053', u'1:7968778-7968778']\n",
      "1:7637119-7968778\n",
      "CPU times: user 6.98 ms, sys: 12.5 ms, total: 19.5 ms\n",
      "Wall time: 421 ms\n"
     ]
    },
    {
     "data": {
      "text/plain": [
       "(['rs6661496',\n",
       "  'rs79544751',\n",
       "  'rs148043253',\n",
       "  'rs74509095',\n",
       "  'rs4908705',\n",
       "  'rs4908708'],\n",
       " [['1', '1', '-0.0256579', '-0.0413742', '-0.0729325', '-0.0729325'],\n",
       "  ['1', '1', '-0.0256579', '-0.0413742', '-0.0729325', '-0.0729325'],\n",
       "  ['-0.0256579', '-0.0256579', '1', '0.325107', '0.248882', '0.248882'],\n",
       "  ['-0.0413742', '-0.0413742', '0.325107', '1', '-0.0778898', '-0.0778898'],\n",
       "  ['-0.0729325', '-0.0729325', '0.248882', '-0.0778898', '1', '1'],\n",
       "  ['-0.0729325', '-0.0729325', '0.248882', '-0.0778898', '1', '1']])"
      ]
     },
     "execution_count": 109,
     "metadata": {},
     "output_type": "execute_result"
    }
   ],
   "source": [
    "time calculate_pairwise_LD(\"../data/raw/smallrsIDs.txt\", db=0)"
   ]
  }
 ],
 "metadata": {
  "kernelspec": {
   "display_name": "Python [Root]",
   "language": "python",
   "name": "Python [Root]"
  },
  "language_info": {
   "codemirror_mode": {
    "name": "ipython",
    "version": 2
   },
   "file_extension": ".py",
   "mimetype": "text/x-python",
   "name": "python",
   "nbconvert_exporter": "python",
   "pygments_lexer": "ipython2",
   "version": "2.7.11"
  }
 },
 "nbformat": 4,
 "nbformat_minor": 0
}
