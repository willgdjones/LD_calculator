{
 "cells": [
  {
   "cell_type": "code",
   "execution_count": 5,
   "metadata": {
    "collapsed": true
   },
   "outputs": [],
   "source": [
    "import subprocess"
   ]
  },
  {
   "cell_type": "code",
   "execution_count": null,
   "metadata": {
    "collapsed": true
   },
   "outputs": [],
   "source": [
    "plink2 --vcf <(vcftools --vcf data/processed/CEPH.chr1.phase3_shapeit2_mvncall_integrated_v5a.20130502.genotypes.vcf --snps data/raw/rsIDs.txt --recode --stdout) --r square --out data/interim/testLD"
   ]
  },
  {
   "cell_type": "code",
   "execution_count": 1,
   "metadata": {
    "collapsed": false
   },
   "outputs": [
    {
     "name": "stdout",
     "output_type": "stream",
     "text": [
      "2276\r\n"
     ]
    }
   ],
   "source": [
    "!vcftools --vcf ../data/processed/CEPH.chr1.phase3_shapeit2_mvncall_integrated_v5a.20130502.genotypes.vcf --snps ../data/raw/rsIDs.txt --recode --stdout | wc -l"
   ]
  },
  {
   "cell_type": "code",
   "execution_count": 25,
   "metadata": {
    "collapsed": false
   },
   "outputs": [
    {
     "data": {
      "text/plain": [
       "0"
      ]
     },
     "execution_count": 25,
     "metadata": {},
     "output_type": "execute_result"
    }
   ],
   "source": [
    "\n",
    "\n",
    "### Needs list of SNPs in a file, aswell as which chromosome they are from.\n",
    "### Errors to catch: missing SNP file, missing VCF file, some SNPs not in this chromosome, Plink not installed.\n",
    "\n",
    "SNPs_file = \"../data/raw/rsIDs.txt\"\n",
    "chromosome = 1\n",
    "\n",
    "VCF_file = \"../data/processed/CEPH.chr\" + str(chromosome) + \".phase3_shapeit2_mvncall_integrated_v5a.20130502.genotypes.vcf\"\n",
    "\n",
    "vcfcomm = \"vcftools --vcf \" + VCF_file + \" --snps \" + SNPs_file + \" --recode --stdout\"\n",
    "vcfcomm_list = comm.split(\" \")\n",
    "vcf = subprocess.check_output(vcfcomm_list)\n",
    "f = open('temp.vcf', 'w')\n",
    "f.write(vcf)\n",
    "f.close()\n",
    "\n",
    "plinkcomm = \"plink2 --vcf temp.vcf --r square --out testLD\"\n",
    "plinkcomm_list = plinkcomm.split(\" \")\n",
    "subprocess.call(plinkcomm_list)\n",
    "\n",
    "subprocess.call(['rm', 'temp.vcf'])"
   ]
  }
 ],
 "metadata": {
  "kernelspec": {
   "display_name": "Python [Root]",
   "language": "python",
   "name": "Python [Root]"
  },
  "language_info": {
   "codemirror_mode": {
    "name": "ipython",
    "version": 2
   },
   "file_extension": ".py",
   "mimetype": "text/x-python",
   "name": "python",
   "nbconvert_exporter": "python",
   "pygments_lexer": "ipython2",
   "version": "2.7.11"
  }
 },
 "nbformat": 4,
 "nbformat_minor": 0
}
